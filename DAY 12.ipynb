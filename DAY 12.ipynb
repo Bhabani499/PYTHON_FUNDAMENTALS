{
 "cells": [
  {
   "cell_type": "code",
   "execution_count": 1,
   "metadata": {},
   "outputs": [],
   "source": [
    "#CREATING A DOG CLASS:"
   ]
  },
  {
   "cell_type": "code",
   "execution_count": 2,
   "metadata": {},
   "outputs": [
    {
     "name": "stdout",
     "output_type": "stream",
     "text": [
      "This did work\n"
     ]
    }
   ],
   "source": [
    "class tiger:\n",
    "    \"\"\"An attempt to model a tiger\"\"\"\n",
    "    \n",
    "    def __init__(self,name,age):\n",
    "        \"\"\"Initializing name and age attributes\"\"\"\n",
    "        self.name = name\n",
    "        self.age = age\n",
    "    \n",
    "    print('This did work')\n",
    "    \n",
    "    def sit(self):\n",
    "        \"\"\"simulate a tiger in response to a command\"\"\"\n",
    "        \n",
    "        print(f\"{self.name} is now sitting\")\n",
    "        \n",
    "    def roaming(self):\n",
    "        \"\"\"simulating a tiger in response to a roaming command\"\"\"\n",
    "        \n",
    "        print(f\"{self.name} is now roaming inside cage\")"
   ]
  },
  {
   "cell_type": "code",
   "execution_count": 3,
   "metadata": {},
   "outputs": [
    {
     "ename": "NameError",
     "evalue": "name 'xobj' is not defined",
     "output_type": "error",
     "traceback": [
      "\u001b[1;31m---------------------------------------------------------------------------\u001b[0m",
      "\u001b[1;31mNameError\u001b[0m                                 Traceback (most recent call last)",
      "\u001b[1;32m<ipython-input-3-7e5484ec25cc>\u001b[0m in \u001b[0;36m<module>\u001b[1;34m\u001b[0m\n\u001b[1;32m----> 1\u001b[1;33m \u001b[0mxobj\u001b[0m\u001b[1;33m.\u001b[0m\u001b[0mtiger\u001b[0m\u001b[1;33m(\u001b[0m\u001b[1;33m)\u001b[0m\u001b[1;33m\u001b[0m\u001b[1;33m\u001b[0m\u001b[0m\n\u001b[0m",
      "\u001b[1;31mNameError\u001b[0m: name 'xobj' is not defined"
     ]
    }
   ],
   "source": []
  },
  {
   "cell_type": "code",
   "execution_count": 4,
   "metadata": {},
   "outputs": [
    {
     "ename": "NameError",
     "evalue": "name 'xobj' is not defined",
     "output_type": "error",
     "traceback": [
      "\u001b[1;31m---------------------------------------------------------------------------\u001b[0m",
      "\u001b[1;31mNameError\u001b[0m                                 Traceback (most recent call last)",
      "\u001b[1;32m<ipython-input-4-9acf52a227c7>\u001b[0m in \u001b[0;36m<module>\u001b[1;34m\u001b[0m\n\u001b[1;32m----> 1\u001b[1;33m \u001b[0mxobj\u001b[0m\u001b[1;33m.\u001b[0m\u001b[0mtiger\u001b[0m\u001b[1;33m(\u001b[0m\u001b[1;34m'matkasur'\u001b[0m\u001b[1;33m,\u001b[0m\u001b[1;36m17\u001b[0m\u001b[1;33m)\u001b[0m\u001b[1;33m\u001b[0m\u001b[1;33m\u001b[0m\u001b[0m\n\u001b[0m",
      "\u001b[1;31mNameError\u001b[0m: name 'xobj' is not defined"
     ]
    }
   ],
   "source": [
    "xobj.tiger('matkasur',17)"
   ]
  },
  {
   "cell_type": "code",
   "execution_count": 5,
   "metadata": {},
   "outputs": [
    {
     "ename": "NameError",
     "evalue": "name 'xobj' is not defined",
     "output_type": "error",
     "traceback": [
      "\u001b[1;31m---------------------------------------------------------------------------\u001b[0m",
      "\u001b[1;31mNameError\u001b[0m                                 Traceback (most recent call last)",
      "\u001b[1;32m<ipython-input-5-a253c4082716>\u001b[0m in \u001b[0;36m<module>\u001b[1;34m\u001b[0m\n\u001b[1;32m----> 1\u001b[1;33m \u001b[0mxobj\u001b[0m\u001b[1;33m.\u001b[0m\u001b[0msit\u001b[0m\u001b[1;33m(\u001b[0m\u001b[1;33m)\u001b[0m\u001b[1;33m\u001b[0m\u001b[1;33m\u001b[0m\u001b[0m\n\u001b[0m",
      "\u001b[1;31mNameError\u001b[0m: name 'xobj' is not defined"
     ]
    }
   ],
   "source": [
    "xobj.sit()"
   ]
  },
  {
   "cell_type": "code",
   "execution_count": 6,
   "metadata": {},
   "outputs": [
    {
     "name": "stdout",
     "output_type": "stream",
     "text": [
      "This did work\n"
     ]
    },
    {
     "ename": "NameError",
     "evalue": "name 'xobj' is not defined",
     "output_type": "error",
     "traceback": [
      "\u001b[1;31m---------------------------------------------------------------------------\u001b[0m",
      "\u001b[1;31mNameError\u001b[0m                                 Traceback (most recent call last)",
      "\u001b[1;32m<ipython-input-6-4421abc70899>\u001b[0m in \u001b[0;36m<module>\u001b[1;34m\u001b[0m\n\u001b[1;32m----> 1\u001b[1;33m \u001b[1;32mclass\u001b[0m \u001b[0mtiger\u001b[0m\u001b[1;33m:\u001b[0m\u001b[1;33m\u001b[0m\u001b[1;33m\u001b[0m\u001b[0m\n\u001b[0m\u001b[0;32m      2\u001b[0m     \u001b[1;34m\"\"\"An attempt to model a tiger\"\"\"\u001b[0m\u001b[1;33m\u001b[0m\u001b[1;33m\u001b[0m\u001b[0m\n\u001b[0;32m      3\u001b[0m \u001b[1;33m\u001b[0m\u001b[0m\n\u001b[0;32m      4\u001b[0m     \u001b[1;32mdef\u001b[0m \u001b[0m__init__\u001b[0m\u001b[1;33m(\u001b[0m\u001b[0mself\u001b[0m\u001b[1;33m,\u001b[0m\u001b[0mname\u001b[0m\u001b[1;33m,\u001b[0m\u001b[0mage\u001b[0m\u001b[1;33m)\u001b[0m\u001b[1;33m:\u001b[0m\u001b[1;33m\u001b[0m\u001b[1;33m\u001b[0m\u001b[0m\n\u001b[0;32m      5\u001b[0m         \u001b[1;34m\"\"\"Initializing name and age attributes\"\"\"\u001b[0m\u001b[1;33m\u001b[0m\u001b[1;33m\u001b[0m\u001b[0m\n",
      "\u001b[1;32m<ipython-input-6-4421abc70899>\u001b[0m in \u001b[0;36mtiger\u001b[1;34m()\u001b[0m\n\u001b[0;32m     19\u001b[0m         \u001b[0mprint\u001b[0m\u001b[1;33m(\u001b[0m\u001b[1;34mf\"{self.name} is now roaming inside cage\"\u001b[0m\u001b[1;33m)\u001b[0m\u001b[1;33m\u001b[0m\u001b[1;33m\u001b[0m\u001b[0m\n\u001b[0;32m     20\u001b[0m \u001b[1;33m\u001b[0m\u001b[0m\n\u001b[1;32m---> 21\u001b[1;33m     \u001b[0mxobj\u001b[0m\u001b[1;33m.\u001b[0m\u001b[0mtiger\u001b[0m\u001b[1;33m(\u001b[0m\u001b[1;34m'matkasur'\u001b[0m\u001b[1;33m,\u001b[0m\u001b[1;36m14\u001b[0m\u001b[1;33m)\u001b[0m\u001b[1;33m\u001b[0m\u001b[1;33m\u001b[0m\u001b[0m\n\u001b[0m",
      "\u001b[1;31mNameError\u001b[0m: name 'xobj' is not defined"
     ]
    }
   ],
   "source": [
    "class tiger:\n",
    "    \"\"\"An attempt to model a tiger\"\"\"\n",
    "    \n",
    "    def __init__(self,name,age):\n",
    "        \"\"\"Initializing name and age attributes\"\"\"\n",
    "        self.name = name\n",
    "        self.age = age\n",
    "    \n",
    "    print('This did work')\n",
    "    \n",
    "    def sit(self):\n",
    "        \"\"\"simulate a tiger in response to a command\"\"\"\n",
    "        \n",
    "        print(f\"{self.name} is now sitting\")\n",
    "        \n",
    "    def roaming(self):\n",
    "        \"\"\"simulating a tiger in response to a roaming command\"\"\"\n",
    "        \n",
    "        print(f\"{self.name} is now roaming inside cage\")\n",
    "        \n",
    "    xobj.tiger('matkasur',14)"
   ]
  },
  {
   "cell_type": "code",
   "execution_count": 8,
   "metadata": {},
   "outputs": [
    {
     "name": "stdout",
     "output_type": "stream",
     "text": [
      "This did work\n"
     ]
    }
   ],
   "source": [
    "class tiger:\n",
    "    \"\"\"An attempt to model a tiger\"\"\"\n",
    "    \n",
    "    def __init__(self,name,age):\n",
    "        \"\"\"Initializing name and age attributes\"\"\"\n",
    "        self.name = name\n",
    "        self.age = age\n",
    "    \n",
    "    print('This did work')\n",
    "    \n",
    "    def sit(self):\n",
    "        \"\"\"simulate a tiger in response to a command\"\"\"\n",
    "        \n",
    "        print(f\"{self.name} is now sitting\")\n",
    "        \n",
    "    def roaming(self):\n",
    "        \"\"\"simulating a tiger in response to a roaming command\"\"\"\n",
    "        \n",
    "        print(f\"{self.name} is now roaming inside cage\")"
   ]
  },
  {
   "cell_type": "code",
   "execution_count": 7,
   "metadata": {},
   "outputs": [
    {
     "ename": "NameError",
     "evalue": "name 'zobj' is not defined",
     "output_type": "error",
     "traceback": [
      "\u001b[1;31m---------------------------------------------------------------------------\u001b[0m",
      "\u001b[1;31mNameError\u001b[0m                                 Traceback (most recent call last)",
      "\u001b[1;32m<ipython-input-7-c5aa8e6aa88f>\u001b[0m in \u001b[0;36m<module>\u001b[1;34m\u001b[0m\n\u001b[1;32m----> 1\u001b[1;33m \u001b[0mzobj\u001b[0m\u001b[1;33m.\u001b[0m\u001b[0mtiger\u001b[0m\u001b[1;33m(\u001b[0m\u001b[1;34m'sultan'\u001b[0m\u001b[1;33m,\u001b[0m\u001b[1;36m9\u001b[0m\u001b[1;33m)\u001b[0m\u001b[1;33m\u001b[0m\u001b[1;33m\u001b[0m\u001b[0m\n\u001b[0m",
      "\u001b[1;31mNameError\u001b[0m: name 'zobj' is not defined"
     ]
    }
   ],
   "source": [
    "zobj.tiger('sultan',9)"
   ]
  },
  {
   "cell_type": "code",
   "execution_count": 9,
   "metadata": {},
   "outputs": [
    {
     "ename": "NameError",
     "evalue": "name 'zobj' is not defined",
     "output_type": "error",
     "traceback": [
      "\u001b[1;31m---------------------------------------------------------------------------\u001b[0m",
      "\u001b[1;31mNameError\u001b[0m                                 Traceback (most recent call last)",
      "\u001b[1;32m<ipython-input-9-c5aa8e6aa88f>\u001b[0m in \u001b[0;36m<module>\u001b[1;34m\u001b[0m\n\u001b[1;32m----> 1\u001b[1;33m \u001b[0mzobj\u001b[0m\u001b[1;33m.\u001b[0m\u001b[0mtiger\u001b[0m\u001b[1;33m(\u001b[0m\u001b[1;34m'sultan'\u001b[0m\u001b[1;33m,\u001b[0m\u001b[1;36m9\u001b[0m\u001b[1;33m)\u001b[0m\u001b[1;33m\u001b[0m\u001b[1;33m\u001b[0m\u001b[0m\n\u001b[0m",
      "\u001b[1;31mNameError\u001b[0m: name 'zobj' is not defined"
     ]
    }
   ],
   "source": [
    "zobj.tiger('sultan',9)"
   ]
  },
  {
   "cell_type": "code",
   "execution_count": 10,
   "metadata": {},
   "outputs": [
    {
     "name": "stdout",
     "output_type": "stream",
     "text": [
      "This did work\n"
     ]
    }
   ],
   "source": [
    "class dog:\n",
    "    \"\"\"An attempt to model a dog\"\"\"\n",
    "    \n",
    "    def __init__(self,name,age):\n",
    "        \"\"\"Initializing name and age attributes\"\"\"\n",
    "        self.name = name\n",
    "        self.age = age\n",
    "    \n",
    "    print('This did work')\n",
    "    \n",
    "    def sit(self):\n",
    "        \"\"\"simulate a dog in response to a sit command\"\"\"\n",
    "        \n",
    "        print(f\"{self.name} is now sitting\")\n",
    "        \n",
    "    def roll_over(self):\n",
    "        \"\"\"simulating a dog in response to a rollover command\"\"\"\n",
    "        \n",
    "        print(f\"{self.name} is now rolling\")"
   ]
  },
  {
   "cell_type": "code",
   "execution_count": 11,
   "metadata": {},
   "outputs": [],
   "source": [
    "aobj = dog('puppy', 5)"
   ]
  },
  {
   "cell_type": "code",
   "execution_count": 12,
   "metadata": {},
   "outputs": [
    {
     "name": "stdout",
     "output_type": "stream",
     "text": [
      "puppy is now sitting\n"
     ]
    }
   ],
   "source": [
    "aobj.sit()"
   ]
  },
  {
   "cell_type": "code",
   "execution_count": 13,
   "metadata": {},
   "outputs": [
    {
     "ename": "AttributeError",
     "evalue": "'dog' object has no attribute 'rollover'",
     "output_type": "error",
     "traceback": [
      "\u001b[1;31m---------------------------------------------------------------------------\u001b[0m",
      "\u001b[1;31mAttributeError\u001b[0m                            Traceback (most recent call last)",
      "\u001b[1;32m<ipython-input-13-ea12eeef38b5>\u001b[0m in \u001b[0;36m<module>\u001b[1;34m\u001b[0m\n\u001b[1;32m----> 1\u001b[1;33m \u001b[0maobj\u001b[0m\u001b[1;33m.\u001b[0m\u001b[0mrollover\u001b[0m\u001b[1;33m(\u001b[0m\u001b[1;33m)\u001b[0m\u001b[1;33m\u001b[0m\u001b[1;33m\u001b[0m\u001b[0m\n\u001b[0m",
      "\u001b[1;31mAttributeError\u001b[0m: 'dog' object has no attribute 'rollover'"
     ]
    }
   ],
   "source": [
    "aobj.rollover()"
   ]
  },
  {
   "cell_type": "code",
   "execution_count": 14,
   "metadata": {},
   "outputs": [
    {
     "name": "stdout",
     "output_type": "stream",
     "text": [
      "puppy is now rolling\n"
     ]
    }
   ],
   "source": [
    "aobj.roll_over()"
   ]
  },
  {
   "cell_type": "code",
   "execution_count": 15,
   "metadata": {},
   "outputs": [],
   "source": [
    "zobj = tiger('matkasur',18)"
   ]
  },
  {
   "cell_type": "code",
   "execution_count": 16,
   "metadata": {},
   "outputs": [
    {
     "name": "stdout",
     "output_type": "stream",
     "text": [
      "matkasur is now sitting\n"
     ]
    }
   ],
   "source": [
    "zobj.sit()"
   ]
  },
  {
   "cell_type": "code",
   "execution_count": 17,
   "metadata": {},
   "outputs": [
    {
     "name": "stdout",
     "output_type": "stream",
     "text": [
      "matkasur is now roaming inside cage\n"
     ]
    }
   ],
   "source": [
    "zobj.roaming()"
   ]
  },
  {
   "cell_type": "code",
   "execution_count": null,
   "metadata": {},
   "outputs": [],
   "source": []
  }
 ],
 "metadata": {
  "kernelspec": {
   "display_name": "Python 3",
   "language": "python",
   "name": "python3"
  },
  "language_info": {
   "codemirror_mode": {
    "name": "ipython",
    "version": 3
   },
   "file_extension": ".py",
   "mimetype": "text/x-python",
   "name": "python",
   "nbconvert_exporter": "python",
   "pygments_lexer": "ipython3",
   "version": "3.7.4"
  }
 },
 "nbformat": 4,
 "nbformat_minor": 2
}
